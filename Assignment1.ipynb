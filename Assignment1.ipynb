{
  "nbformat": 4,
  "nbformat_minor": 0,
  "metadata": {
    "colab": {
      "name": "Assignment1.ipynb",
      "provenance": [],
      "authorship_tag": "ABX9TyNFvRg3vySGX8SpW99ALPz8",
      "include_colab_link": true
    },
    "kernelspec": {
      "name": "python3",
      "display_name": "Python 3"
    },
    "language_info": {
      "name": "python"
    }
  },
  "cells": [
    {
      "cell_type": "markdown",
      "metadata": {
        "id": "view-in-github",
        "colab_type": "text"
      },
      "source": [
        "<a href=\"https://colab.research.google.com/github/Goodboey/FPLI-MP-SEBASTIAN-EJAZ-EBUBEKIR/blob/main/Assignment1.ipynb\" target=\"_parent\"><img src=\"https://colab.research.google.com/assets/colab-badge.svg\" alt=\"Open In Colab\"/></a>"
      ]
    },
    {
      "cell_type": "markdown",
      "source": [
        "Note that lines starting with a # in python are comments meaning either they are explanations to someone trying to read the code, or they are bits of code that we, for now, don't want to use, but may use (by \"uncommenting\" them) later. In this first section we have statements to import various useful python modules."
      ],
      "metadata": {
        "id": "z306vCmV5gnD"
      }
    },
    {
      "cell_type": "code",
      "execution_count": 4,
      "metadata": {
        "colab": {
          "base_uri": "https://localhost:8080/",
          "height": 333
        },
        "id": "-g0OlAaa5FyS",
        "outputId": "8b4a72fb-fb2f-48d8-e3b0-aee30542c851"
      },
      "outputs": [
        {
          "output_type": "error",
          "ename": "ModuleNotFoundError",
          "evalue": "ignored",
          "traceback": [
            "\u001b[0;31m---------------------------------------------------------------------------\u001b[0m",
            "\u001b[0;31mModuleNotFoundError\u001b[0m                       Traceback (most recent call last)",
            "\u001b[0;32m<ipython-input-4-fad5160544fa>\u001b[0m in \u001b[0;36m<module>\u001b[0;34m()\u001b[0m\n\u001b[1;32m      8\u001b[0m \u001b[0mplt\u001b[0m\u001b[0;34m.\u001b[0m\u001b[0mstyle\u001b[0m\u001b[0;34m.\u001b[0m\u001b[0muse\u001b[0m\u001b[0;34m(\u001b[0m\u001b[0;34m'classic'\u001b[0m\u001b[0;34m)\u001b[0m\u001b[0;34m\u001b[0m\u001b[0;34m\u001b[0m\u001b[0m\n\u001b[1;32m      9\u001b[0m \u001b[0;34m\u001b[0m\u001b[0m\n\u001b[0;32m---> 10\u001b[0;31m \u001b[0;32mfrom\u001b[0m \u001b[0mgravity\u001b[0m \u001b[0;32mimport\u001b[0m \u001b[0mgravity\u001b[0m\u001b[0;34m\u001b[0m\u001b[0;34m\u001b[0m\u001b[0m\n\u001b[0m",
            "\u001b[0;31mModuleNotFoundError\u001b[0m: No module named 'gravity'",
            "",
            "\u001b[0;31m---------------------------------------------------------------------------\u001b[0;32m\nNOTE: If your import is failing due to a missing package, you can\nmanually install dependencies using either !pip or !apt.\n\nTo view examples of installing some common dependencies, click the\n\"Open Examples\" button below.\n\u001b[0;31m---------------------------------------------------------------------------\u001b[0m\n"
          ],
          "errorDetails": {
            "actions": [
              {
                "action": "open_url",
                "actionText": "Open Examples",
                "url": "/notebooks/snippets/importing_libraries.ipynb"
              }
            ]
          }
        }
      ],
      "source": [
        "import numpy as np\n",
        "import math\n",
        "\n",
        "import matplotlib.pyplot as plt\n",
        "import time\n",
        "import pandas as pd\n",
        "#import numba # add @numba.njit before functions to get just-in-time compilation\n",
        "plt.style.use('classic')\n",
        "\n",
        "from gravity import gravity"
      ]
    },
    {
      "cell_type": "markdown",
      "source": [
        "The next cell sets up various units and constants relevant for solar system calculations. Choosing a unit for length, a unit for time, and a unit for mass is enough to define the units for everything else."
      ],
      "metadata": {
        "id": "zKn9QLB55c5w"
      }
    },
    {
      "cell_type": "code",
      "source": [
        "G_SI = 6.67408e-11 # Newton's gravitational constant in SI units (m^3 kg^-1 s^-2)\n",
        "\n",
        "# choose units for mass, length, time. This choice affects the\n",
        "# numerical value we use for G\n",
        "M = 1.98855e30 # solar mass in kg\n",
        "L = 149597870700 # AU in m\n",
        "T = 365.256*24*3600 # sidereal year in seconds\n",
        "\n",
        "\n",
        "m_E = 5.972e24 / M # earth-mass in our chosen (solar) mass unit\n",
        "m_S = 1.98855e30 / M # solar mass: 1 in solar units\n",
        "m_J = 1.898e27 / M  # Jupiter mass\n",
        "day = 24*3600 / T  # a day in our chosen time unit, for convenience\n",
        "\n",
        "\n",
        "# Gravitational constant in chosen units\n",
        "G = G_SI*M*T**2/L**3\n",
        "# for solar mass/AU/year the value of G is simply 4 pi^2\n"
      ],
      "metadata": {
        "id": "ajepfO8D5nyx"
      },
      "execution_count": 3,
      "outputs": []
    },
    {
      "cell_type": "markdown",
      "source": [
        "## User data: initial positions and velocities\n",
        "Put the sun initially at the origin. This is where you make changes to do your own simulation. You need to have a position (x,y,z) and a velocity (x,y,z) and a mass for each object. By leaving out the z-components you can do 2-dimensional simulations"
      ],
      "metadata": {
        "id": "XU90i6nc5sKY"
      }
    },
    {
      "cell_type": "code",
      "source": [
        "\n",
        "positions = np.array([[0., 0., 0.], [?, ?, ? ]])   \n",
        "velocities = np.array([[0., 0., 0.], [?, ?, ?] ])\n",
        "masses = np.array([m_S, ?])\n"
      ],
      "metadata": {
        "colab": {
          "base_uri": "https://localhost:8080/",
          "height": 129
        },
        "id": "jlMJxAy25w4d",
        "outputId": "9121349e-d0d9-485a-8351-a16be45dceea"
      },
      "execution_count": 1,
      "outputs": [
        {
          "output_type": "error",
          "ename": "SyntaxError",
          "evalue": "ignored",
          "traceback": [
            "\u001b[0;36m  File \u001b[0;32m\"<ipython-input-1-b42f35210cc9>\"\u001b[0;36m, line \u001b[0;32m2\u001b[0m\n\u001b[0;31m    positions = np.array([[0., 0., 0.], [?, ?, ? ]])\u001b[0m\n\u001b[0m                                         ^\u001b[0m\n\u001b[0;31mSyntaxError\u001b[0m\u001b[0;31m:\u001b[0m invalid syntax\n"
          ]
        }
      ]
    },
    {
      "cell_type": "markdown",
      "source": [
        "Various initialization stuff before the main loop starts. There are some lines involving \"output_file\" which are commented out. These could be used as an alternative "
      ],
      "metadata": {
        "id": "s_s4tMQ852jL"
      }
    },
    {
      "cell_type": "code",
      "source": [
        "nparticles = positions.shape[0]\n",
        "D = positions.shape[1] ; # number of dimensions\n",
        "\n",
        "# set the CM velocity to zero. Transpose to get last dimensions to match for\n",
        "# broadcasting to work\n",
        "total_momentum = np.sum(masses * velocities.transpose(), 1)\n",
        "v_CM = total_momentum / np.sum(masses)\n",
        "velocities -= v_CM\n",
        "\n",
        " \n",
        "dt = 0.001 # time step in years. Can use day as time step by\n",
        "            # writing dt = 1*day;\n",
        "\n",
        "T = 10.0 # total time to simulate in years\n",
        "nsteps = int(T/dt)\n",
        "\n",
        "write_interval = 10 # write only every 10 (or whatever you choose) time steps to save time and space\n",
        "\n",
        "# if writing to a file as you go, it needs to be opened now.\n",
        "#output_file = open('orbits.dat','w')\n",
        "# header for the output file\n",
        "#output_file.write(\"time,xS,yS,xE,yE,d_ES\\n\")\n",
        "\n",
        "\n",
        "# technical detail: adjust velocities to get them for a half time step\n",
        "# backwards (Leap-Frog velocities are defined at the half-way points between\n",
        "# \"real\" timesteps).\n",
        "\n",
        "forces = np.zeros(positions.shape)\n",
        "gravity(positions, masses, forces, G)\n",
        "mass_array = np.tile(masses, (3,1)).transpose() # make an Nx3 version of masses\n",
        "velocities -=  0.5 * (forces / mass_array)  * dt;"
      ],
      "metadata": {
        "id": "7iahSPGO54mT"
      },
      "execution_count": null,
      "outputs": []
    },
    {
      "cell_type": "markdown",
      "source": [
        "## Now down to business: the main simulation loop\n",
        "This is a function called \"run\". Something only happens-see below-when that function is called "
      ],
      "metadata": {
        "id": "ystu8rzv57TD"
      }
    },
    {
      "cell_type": "code",
      "source": [
        "#@numba.njit\n",
        "def run(positions, velocities, forces, masses, mass_array, G, dt, nsteps, write_interval, output):\n",
        "\n",
        "   \n",
        "    for s in range(nsteps):\n",
        "        # these three lines do all the calculations for the simulation\n",
        "        gravity(positions, masses, forces, G)\n",
        "        velocities += (forces / mass_array ) * dt\n",
        "        positions = positions +  velocities * dt\n",
        "\n",
        "        # the rest of the main loop is generating output\n",
        "        if s % write_interval == 0:\n",
        "            # for plotting the earth-sun distance\n",
        "            d_ES = math.sqrt(np.sum((positions[1,:]-positions[0,:])**2));\n",
        "\n",
        "            # IF WRITING TO AN OUTPUT FILE DURING THE SIMULATION\n",
        "            # the number of items in the format string must match the\n",
        "            # number of items following\n",
        "            # you should update the header string above as well\n",
        "            #output_file.write('%.4f,%.5g,%.5g,%.5g,%.5g,%.5g\\n' % (s*dt, positions[0, 0], positions[0, 1], positions[1,0], positions[1,1], d_ES) )\n",
        "\n",
        "            # If only using pandas dataframe without writing to a file (yet)\n",
        "            index = s // write_interval # integer division\n",
        "            output[index, 0] = s*dt # time\n",
        "            output[index, 1] = positions[0, 0]\n",
        "            output[index, 2] = positions[0, 1]\n",
        "            output[index, 3] = positions[1, 0]\n",
        "            output[index, 4] = positions[1, 1]\n",
        "            output[index, 5] = d_ES\n"
      ],
      "metadata": {
        "id": "vQ-MuClM5-ZV"
      },
      "execution_count": null,
      "outputs": []
    },
    {
      "cell_type": "markdown",
      "source": [
        "Here we define the basic output structure: how many quantities (ncols) and how many lines of data. Think of the output as being written to a file with nlines lines and ncols columns."
      ],
      "metadata": {
        "id": "sFe7OUUZ6BiR"
      }
    },
    {
      "cell_type": "code",
      "source": [
        "nlines = nsteps // write_interval # we want integer division here!\n",
        "ncols = 6 # how many columns of data (how many different variables)\n",
        "output_array = np.zeros((nlines, ncols))\n"
      ],
      "metadata": {
        "id": "eQLt670o6EWT"
      },
      "execution_count": null,
      "outputs": []
    },
    {
      "cell_type": "code",
      "source": [
        "tStart = time.time(); # start timer\n",
        "run(positions, velocities, forces, masses, mass_array, G, dt, nsteps, write_interval, output_array)\n",
        "tElapsed = time.time() - tStart # record time taken for main loop\n",
        "print(\"Time taken for %d steps is %.3f seconds\" % (nsteps, tElapsed))\n",
        "\n",
        "#output_file.close()"
      ],
      "metadata": {
        "id": "i4s9nZQ06DV5"
      },
      "execution_count": null,
      "outputs": []
    },
    {
      "cell_type": "markdown",
      "source": [
        "The next section is for plotting the data"
      ],
      "metadata": {
        "id": "L_iiOy3n6K0Q"
      }
    },
    {
      "cell_type": "code",
      "source": [
        "# load data from the file\n",
        "#df = pd.read_csv('orbits.dat')\n",
        "\n",
        "# OR construct the DataFrame from the numpy arrays we have\n",
        "df = pd.DataFrame(output_array, columns=['time','xS','yS','xE','yE','d_ES'])\n",
        "\n",
        "\n",
        "plt.figure(figsize=(8, 5))\n",
        "plt.plot(df['time'],df['d_ES'])\n",
        "plt.title(\"Simulation of earth orbiting the sun\")\n",
        "plt.xlabel(\"time\")\n",
        "plt.ylabel(\"distance of Earth from sun\")\n",
        "    \n",
        "plt.savefig(\"Earth-sun-dist-vs-t.png\")\n",
        "plt.show() # makes new fig so call after savefig!\n",
        "\n",
        "# save the data frame to csv file\n",
        "df.to_csv('orbits.csv')\n"
      ],
      "metadata": {
        "id": "FKFH_nnF6NOO"
      },
      "execution_count": null,
      "outputs": []
    }
  ]
}